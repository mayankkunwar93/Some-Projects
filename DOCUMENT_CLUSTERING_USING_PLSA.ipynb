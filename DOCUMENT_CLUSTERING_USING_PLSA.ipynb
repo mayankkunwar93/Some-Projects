{
  "nbformat": 4,
  "nbformat_minor": 0,
  "metadata": {
    "colab": {
      "name": "DOCUMENT_CLUSTERING_USING_PLSA.ipynb",
      "provenance": []
    },
    "kernelspec": {
      "name": "python3",
      "display_name": "Python 3"
    }
  },
  "cells": [
    {
      "cell_type": "code",
      "metadata": {
        "id": "Y6a1zDOgl3Zo",
        "colab_type": "code",
        "colab": {}
      },
      "source": [
        "from sklearn.datasets import fetch_20newsgroups\n",
        "from sklearn.feature_extraction.text import CountVectorizer\n",
        "import numpy as np\n",
        "from pylab import random\n"
      ],
      "execution_count": 0,
      "outputs": []
    },
    {
      "cell_type": "markdown",
      "metadata": {
        "id": "H2oKM9kCkhYO",
        "colab_type": "text"
      },
      "source": [
        "**20 NewsGroups Dataset**"
      ]
    },
    {
      "cell_type": "code",
      "metadata": {
        "id": "0uK35kL4l-N5",
        "colab_type": "code",
        "colab": {}
      },
      "source": [
        "news = fetch_20newsgroups(subset='train', shuffle=True)\n",
        "number_of_documents = 20       # taking few documents to cluster\n",
        "\n",
        "observation_matrix = CountVectorizer(stop_words='english').fit_transform(news.data[:number_of_documents])\n",
        "M = observation_matrix\n",
        "\n",
        "\n",
        "labels = news.target\n",
        "K = np.unique(labels).shape[0]\n",
        "\n",
        "m = M.shape[0]    # No. of documents\n",
        "n = M.shape[1]    # No. of words(excluding english language stop words)"
      ],
      "execution_count": 0,
      "outputs": []
    },
    {
      "cell_type": "code",
      "metadata": {
        "id": "6XmyQdAbi6g7",
        "colab_type": "code",
        "colab": {
          "base_uri": "https://localhost:8080/",
          "height": 35
        },
        "outputId": "29cfb3d8-09ea-4326-8be0-46fc840db221"
      },
      "source": [
        "print(K)"
      ],
      "execution_count": 64,
      "outputs": [
        {
          "output_type": "stream",
          "text": [
            "20\n"
          ],
          "name": "stdout"
        }
      ]
    },
    {
      "cell_type": "code",
      "metadata": {
        "id": "qazqjBu4VdTa",
        "colab_type": "code",
        "colab": {
          "base_uri": "https://localhost:8080/",
          "height": 35
        },
        "outputId": "9487c3f6-1a77-4a63-be38-2a592db64343"
      },
      "source": [
        "print(m)"
      ],
      "execution_count": 65,
      "outputs": [
        {
          "output_type": "stream",
          "text": [
            "20\n"
          ],
          "name": "stdout"
        }
      ]
    },
    {
      "cell_type": "code",
      "metadata": {
        "id": "RhO4TG9LVh4E",
        "colab_type": "code",
        "colab": {
          "base_uri": "https://localhost:8080/",
          "height": 35
        },
        "outputId": "d202f626-87c9-4095-ad90-3a053ab74a0e"
      },
      "source": [
        "print(n)"
      ],
      "execution_count": 66,
      "outputs": [
        {
          "output_type": "stream",
          "text": [
            "1866\n"
          ],
          "name": "stdout"
        }
      ]
    },
    {
      "cell_type": "code",
      "metadata": {
        "id": "NohgFnfskcng",
        "colab_type": "code",
        "colab": {}
      },
      "source": [
        "def EStep():\n",
        "    for i in range(0, m):\n",
        "        for j in range(0, n):\n",
        "            denominator = 0;\n",
        "            for k in range(0, K):\n",
        "                p[i, j, k] = theta[k, j] * lamda[i, k];\n",
        "                denominator += p[i, j, k];\n",
        "            if denominator == 0:\n",
        "                for k in range(0, K):\n",
        "                    p[i, j, k] = 0;\n",
        "            else:\n",
        "                for k in range(0, K):\n",
        "                    p[i, j, k] /= denominator;\n",
        "                    "
      ],
      "execution_count": 0,
      "outputs": []
    },
    {
      "cell_type": "code",
      "metadata": {
        "id": "FM7kmjNtkiGZ",
        "colab_type": "code",
        "colab": {}
      },
      "source": [
        "def LogLikelihood():\n",
        "    loglikelihood = 0\n",
        "    for i in range(0, m):\n",
        "        for j in range(0, n):\n",
        "            tmp = 0\n",
        "            for k in range(0, K):\n",
        "                tmp += theta[k, j] * lamda[i, k]\n",
        "            if tmp > 0:\n",
        "                loglikelihood += M[i, j] * np.log(tmp)\n",
        "    return loglikelihood\n"
      ],
      "execution_count": 0,
      "outputs": []
    },
    {
      "cell_type": "code",
      "metadata": {
        "id": "5kOoLpQSkkBR",
        "colab_type": "code",
        "colab": {}
      },
      "source": [
        "def initializeParameters():\n",
        "    for i in range(0, m):\n",
        "        normalization = sum(lamda[i, :])\n",
        "        for j in range(0, K):\n",
        "            lamda[i, j] /= normalization;\n",
        "\n",
        "    for i in range(0, K):\n",
        "        normalization = sum(theta[i, :])\n",
        "        for j in range(0, n):\n",
        "            theta[i, j] /= normalization;"
      ],
      "execution_count": 0,
      "outputs": []
    },
    {
      "cell_type": "code",
      "metadata": {
        "id": "QwBwtCnhknWV",
        "colab_type": "code",
        "colab": {}
      },
      "source": [
        "# lamda[i, j] : p(tj|di)\n",
        "lamda = random([m, K])\n",
        "\n",
        "# theta[i, j] : p(wj|ti)\n",
        "theta = random([K, n])\n",
        "\n",
        "# p[i, j, k] : p(tk|di,wj)\n",
        "p = np.zeros([m, n, K])\n",
        "initializeParameters()"
      ],
      "execution_count": 0,
      "outputs": []
    },
    {
      "cell_type": "code",
      "metadata": {
        "id": "ZQamLp8vkyTZ",
        "colab_type": "code",
        "colab": {}
      },
      "source": [
        "# EM algorithm\n",
        "maxIteration = 3\n"
      ],
      "execution_count": 0,
      "outputs": []
    },
    {
      "cell_type": "code",
      "metadata": {
        "id": "Mqa8EEQck12a",
        "colab_type": "code",
        "colab": {}
      },
      "source": [
        "for i in range(0, maxIteration):\n",
        "    EStep()\n",
        "    #Mstep\n",
        "    # update theta # theta[i, j] = p(wj|ti)\n",
        "    for k in range(0, K):\n",
        "        denominator = 0\n",
        "        for j in range(0, n):\n",
        "            theta[k, j] = 0\n",
        "            for i in range(0, m):\n",
        "                theta[k, j] += M[i, j] * p[i, j, k]\n",
        "            denominator += theta[k, j]\n",
        "        if denominator == 0:\n",
        "            for j in range(0, n):\n",
        "                theta[k, j] = 1.0 / n\n",
        "        else:\n",
        "            for j in range(0, n):\n",
        "                theta[k, j] /= denominator\n",
        "        \n",
        "    # update lamda # lamda[i, j] = p(tj|di)\n",
        "\n",
        "    t_mat = np.zeros((m, K))\n",
        "    for i in range(0, m):\n",
        "      for k in range(0, K):\n",
        "          lamda[i, k] = 0\n",
        "          denominator = 0\n",
        "          lamda[i, -1] = 0\n",
        "\n",
        "          for j in range(0, n):\n",
        "            lamda[i, k] += M[i, j] * p[i, j, k]\n",
        "            denominator += M[i, j];\n",
        "              \n",
        "          if denominator == 0:\n",
        "            lamda[i, k] = 1.0 / K \n",
        "          else:\n",
        "            lamda[i, k] /= denominator  \n",
        "\n",
        "          t_mat[i][k] = lamda[i, k]\n",
        "\n"
      ],
      "execution_count": 0,
      "outputs": []
    },
    {
      "cell_type": "code",
      "metadata": {
        "id": "boyHHlMMxw-E",
        "colab_type": "code",
        "colab": {
          "base_uri": "https://localhost:8080/",
          "height": 1000
        },
        "outputId": "1cc08d21-c175-474b-eab2-addba56796b1"
      },
      "source": [
        "print(t_mat)"
      ],
      "execution_count": 73,
      "outputs": [
        {
          "output_type": "stream",
          "text": [
            "[[4.64346592e-04 2.02955207e-01 1.58022348e-02 2.64706596e-04\n",
            "  1.41425646e-02 1.35673902e-01 2.95768886e-02 6.86579737e-03\n",
            "  1.06839708e-02 6.24805199e-03 1.08002252e-01 2.61750551e-02\n",
            "  2.55422611e-03 1.04786938e-01 1.69108733e-01 3.98837840e-02\n",
            "  9.48343720e-02 2.70795373e-02 4.73586274e-03 1.61569637e-04]\n",
            " [1.94435471e-03 1.48567971e-02 2.96796963e-03 3.86133905e-01\n",
            "  4.10058417e-03 7.59795133e-02 1.76645188e-03 4.16954583e-02\n",
            "  1.66794988e-03 1.93517493e-03 3.05214451e-02 6.88723243e-05\n",
            "  2.67296796e-02 1.21110091e-01 2.63386748e-02 1.21035046e-03\n",
            "  3.46759801e-04 4.65200286e-02 7.74009744e-02 1.36704965e-01]\n",
            " [2.02006704e-02 2.77352891e-02 5.58897678e-04 8.54273707e-04\n",
            "  6.73353602e-03 5.79766566e-02 4.24870339e-03 4.87760943e-03\n",
            "  7.56671479e-02 6.70210783e-02 1.69221420e-01 5.48611676e-02\n",
            "  7.47934159e-02 1.44353469e-03 9.53306009e-02 1.86632672e-01\n",
            "  3.66111258e-03 7.34398917e-02 7.37656486e-02 9.76673263e-04]\n",
            " [1.20384827e-01 1.21550900e-01 5.01058880e-02 1.82916766e-02\n",
            "  2.91655172e-03 1.22515121e-03 2.37632390e-03 1.49678851e-01\n",
            "  1.87717817e-01 1.99608580e-04 9.79250194e-04 8.75878618e-03\n",
            "  7.37775741e-02 3.83133733e-04 1.39981507e-01 8.68423289e-04\n",
            "  6.12649003e-03 6.27305241e-03 8.43480392e-02 2.40561492e-02]\n",
            " [9.89118625e-02 2.11050380e-02 2.70135507e-03 2.24652570e-03\n",
            "  5.47507247e-02 1.08651655e-03 5.61934241e-02 3.57006139e-02\n",
            "  4.54769498e-02 4.00263035e-03 2.98504527e-02 1.74322776e-01\n",
            "  1.06039625e-02 4.47367322e-03 2.18095759e-01 2.27646651e-02\n",
            "  1.42504123e-01 6.94535507e-02 3.04055435e-03 2.71484205e-03]\n",
            " [4.38296168e-02 1.41997782e-02 4.96709265e-04 1.48049500e-03\n",
            "  4.22695839e-02 1.30181447e-02 2.92882779e-02 1.76147798e-02\n",
            "  1.23037347e-01 6.06230672e-02 1.06839272e-03 5.23024540e-02\n",
            "  3.26892901e-01 1.09327567e-01 8.97029890e-03 2.30810993e-03\n",
            "  1.21412027e-02 1.29538384e-04 1.13799669e-01 2.72020669e-02]\n",
            " [1.19135499e-01 4.62759523e-03 4.03971842e-02 1.21766486e-01\n",
            "  7.73592958e-04 2.93949048e-01 1.39308971e-03 9.69534714e-04\n",
            "  5.54732735e-02 2.89333080e-02 8.08200338e-02 7.48137076e-03\n",
            "  2.35952197e-04 5.29231008e-02 3.68767709e-02 2.06734275e-02\n",
            "  2.11112728e-02 6.24995768e-02 2.24406853e-02 2.75191984e-02]\n",
            " [2.03572991e-02 2.65024486e-02 7.74429302e-04 1.64243743e-02\n",
            "  9.82953293e-02 2.41831842e-02 6.28685591e-02 1.90753022e-02\n",
            "  3.02534828e-02 2.38550372e-01 1.17507496e-01 1.27008212e-02\n",
            "  9.35116325e-02 1.01914386e-01 2.67183069e-02 3.43789119e-03\n",
            "  5.88663590e-02 1.37911204e-02 2.54147650e-02 8.85244088e-03]\n",
            " [1.77636706e-02 2.44588431e-05 5.03170316e-02 1.54878054e-02\n",
            "  1.61551285e-01 7.90152109e-02 1.23167120e-01 1.24126464e-01\n",
            "  1.66069898e-01 2.05179856e-02 3.34407545e-02 2.34523590e-02\n",
            "  2.59531012e-03 1.49823923e-03 1.26802216e-02 3.49109458e-02\n",
            "  7.00208646e-04 1.50111745e-02 1.84165191e-02 9.92533376e-02]\n",
            " [1.40633458e-01 4.90256032e-03 1.30501758e-01 7.16070892e-02\n",
            "  2.38263315e-01 2.13318598e-03 3.24020503e-02 3.82601349e-02\n",
            "  8.08419172e-02 2.83434438e-03 1.88513104e-02 6.29059783e-02\n",
            "  7.76692402e-04 1.58628600e-04 5.44091476e-02 6.54861784e-02\n",
            "  3.99359136e-03 8.50825724e-03 1.14545769e-02 3.10758253e-02]\n",
            " [3.31355196e-02 1.54383543e-03 3.38141753e-01 2.38600047e-04\n",
            "  6.84585733e-02 5.23625523e-02 1.21560935e-04 1.52237282e-01\n",
            "  4.21479398e-02 1.49761598e-01 3.13850111e-02 3.57756950e-03\n",
            "  1.31859205e-03 7.81244223e-02 1.59979782e-04 1.28975762e-02\n",
            "  1.62948430e-03 2.48339766e-03 2.98757742e-02 3.98978928e-04]\n",
            " [1.54572312e-01 6.77183857e-02 1.36301365e-02 1.24743344e-01\n",
            "  4.62328475e-04 4.26033470e-02 1.07746825e-01 1.80876702e-02\n",
            "  1.20599878e-03 1.69594222e-03 1.45528133e-03 3.90760544e-03\n",
            "  6.94413263e-03 2.65462803e-04 1.58305197e-01 5.59972602e-03\n",
            "  1.70181692e-01 7.54365983e-02 1.76426721e-02 2.77953434e-02]\n",
            " [1.79171869e-02 3.01109787e-02 5.96439115e-02 1.61022574e-02\n",
            "  2.04705223e-01 4.60075673e-04 3.83786980e-02 7.95769365e-02\n",
            "  1.17898382e-02 1.46295784e-01 2.67559553e-03 4.21986917e-02\n",
            "  8.79639790e-03 4.38182752e-04 6.31822465e-02 1.32604177e-02\n",
            "  3.19962295e-02 1.39990327e-03 7.73144093e-02 1.53757035e-01]\n",
            " [8.62672856e-03 6.78057717e-02 8.09614271e-02 4.01978325e-04\n",
            "  5.01442544e-04 5.96663999e-02 9.18088158e-07 2.27754249e-02\n",
            "  7.31388799e-02 2.09635072e-04 3.04124677e-03 2.22709800e-04\n",
            "  1.41094415e-01 1.31279519e-01 2.29660723e-02 4.15877504e-02\n",
            "  2.66332118e-05 1.54353510e-01 7.50332438e-02 1.16306294e-01]\n",
            " [8.40646777e-04 4.02281793e-03 1.01468646e-02 4.97004427e-02\n",
            "  7.48494376e-04 5.05387324e-03 8.62149589e-04 5.62120409e-02\n",
            "  1.39932167e-01 1.48800146e-01 2.87723848e-01 2.28392962e-04\n",
            "  6.23003004e-03 1.19009252e-01 3.15293641e-02 4.74940306e-02\n",
            "  1.44421756e-02 6.62813170e-02 4.02388174e-03 6.71806493e-03]\n",
            " [3.34589932e-02 1.10366628e-01 8.73341381e-03 8.73746786e-02\n",
            "  3.28062286e-01 9.16786083e-02 8.63661463e-03 2.60130465e-02\n",
            "  6.13815170e-02 1.14963263e-01 4.24130056e-02 1.57984341e-02\n",
            "  7.97533331e-04 1.06728025e-03 1.18644012e-02 3.70314832e-06\n",
            "  1.65075940e-02 3.86522903e-02 2.16571382e-03 6.09950748e-05]\n",
            " [1.84565365e-01 6.56066796e-02 1.36251434e-01 2.98908896e-02\n",
            "  9.83997803e-04 9.98548096e-02 1.23258019e-02 2.80374030e-05\n",
            "  9.31873402e-03 1.79814567e-03 1.10510732e-04 1.46527314e-01\n",
            "  2.29300500e-02 8.33684323e-03 1.34608892e-03 2.83260800e-03\n",
            "  2.30564639e-01 3.58234372e-02 3.12266076e-03 7.78195410e-03]\n",
            " [2.58844898e-02 3.88857649e-05 6.51491668e-02 9.07997606e-03\n",
            "  1.28875591e-02 4.96418274e-02 2.13625823e-01 3.50018223e-02\n",
            "  5.25120465e-03 8.69505975e-02 4.88727611e-02 9.40218247e-02\n",
            "  2.93260600e-02 9.39432211e-03 1.81382983e-03 1.47177209e-01\n",
            "  4.76905356e-02 7.52936155e-02 2.46409724e-02 1.82575175e-02]\n",
            " [2.01812195e-02 1.81217037e-02 5.75642592e-02 1.35971214e-02\n",
            "  1.67289534e-03 9.65013261e-04 6.81083796e-03 9.13149635e-02\n",
            "  1.12987807e-01 1.05627022e-02 2.33659274e-01 3.30108914e-04\n",
            "  9.96664080e-02 3.00491724e-03 1.57327058e-02 7.34265046e-03\n",
            "  4.83930302e-03 9.82841739e-02 1.63393482e-01 3.99684532e-02]\n",
            " [6.46247984e-04 1.15191521e-01 9.01030547e-03 7.89550247e-04\n",
            "  1.96087419e-01 5.27965337e-03 6.05496526e-04 8.31294879e-02\n",
            "  5.92165518e-02 1.25931075e-02 4.45678247e-05 1.71577475e-01\n",
            "  8.70470584e-02 4.41664988e-03 2.94389512e-03 1.19011846e-04\n",
            "  2.55496921e-02 2.65390377e-02 9.44333889e-02 1.04779883e-01]]\n"
          ],
          "name": "stdout"
        }
      ]
    },
    {
      "cell_type": "markdown",
      "metadata": {
        "id": "D81KTdofUoOg",
        "colab_type": "text"
      },
      "source": [
        "**Now we will assign the LATENT TOPICS for each document**"
      ]
    },
    {
      "cell_type": "code",
      "metadata": {
        "id": "QeMZS5HeRysT",
        "colab_type": "code",
        "colab": {}
      },
      "source": [
        "t_star = []\n",
        "for i in range(0, m):\n",
        "  t_star.append(np.argmax(t_mat[i]))\n"
      ],
      "execution_count": 0,
      "outputs": []
    },
    {
      "cell_type": "code",
      "metadata": {
        "id": "fOwjlgGDUOG3",
        "colab_type": "code",
        "colab": {
          "base_uri": "https://localhost:8080/",
          "height": 35
        },
        "outputId": "a232dba8-4dfc-49d4-ac5c-61ee7aabe5e5"
      },
      "source": [
        "print(t_star)"
      ],
      "execution_count": 75,
      "outputs": [
        {
          "output_type": "stream",
          "text": [
            "[1, 3, 15, 8, 14, 12, 5, 9, 8, 4, 2, 16, 4, 17, 10, 4, 16, 6, 10, 4]\n"
          ],
          "name": "stdout"
        }
      ]
    },
    {
      "cell_type": "code",
      "metadata": {
        "id": "8fSHA3m6VFNC",
        "colab_type": "code",
        "colab": {
          "base_uri": "https://localhost:8080/",
          "height": 35
        },
        "outputId": "08899970-4b4a-49bb-8134-58c5aac4827c"
      },
      "source": [
        "print(np.size(t_star))"
      ],
      "execution_count": 76,
      "outputs": [
        {
          "output_type": "stream",
          "text": [
            "20\n"
          ],
          "name": "stdout"
        }
      ]
    },
    {
      "cell_type": "code",
      "metadata": {
        "id": "V2GpqMidYOMo",
        "colab_type": "code",
        "colab": {
          "base_uri": "https://localhost:8080/",
          "height": 363
        },
        "outputId": "eab6778e-bd20-44d4-d077-35c39e70bae3"
      },
      "source": [
        "#Cluster numbers and Document numbers are starting from 0\n",
        "for k in range(0, K):\n",
        "  doc = []\n",
        "  for i in range(0, m):\n",
        "    if t_star[i] == k:\n",
        "      doc.append(i)\n",
        "  if doc == []:\n",
        "    print(\"Documents in cluster \",k,\"     : NO DOCUMENTS FOUND\")\n",
        "  else:\n",
        "    print(\"Documents in cluster \",k,\" are : \",\"Document Number \",doc)"
      ],
      "execution_count": 101,
      "outputs": [
        {
          "output_type": "stream",
          "text": [
            "Documents in cluster  0      : NO DOCUMENTS FOUND\n",
            "Documents in cluster  1  are :  Document Number  [0]\n",
            "Documents in cluster  2  are :  Document Number  [10]\n",
            "Documents in cluster  3  are :  Document Number  [1]\n",
            "Documents in cluster  4  are :  Document Number  [9, 12, 15, 19]\n",
            "Documents in cluster  5  are :  Document Number  [6]\n",
            "Documents in cluster  6  are :  Document Number  [17]\n",
            "Documents in cluster  7      : NO DOCUMENTS FOUND\n",
            "Documents in cluster  8  are :  Document Number  [3, 8]\n",
            "Documents in cluster  9  are :  Document Number  [7]\n",
            "Documents in cluster  10  are :  Document Number  [14, 18]\n",
            "Documents in cluster  11      : NO DOCUMENTS FOUND\n",
            "Documents in cluster  12  are :  Document Number  [5]\n",
            "Documents in cluster  13      : NO DOCUMENTS FOUND\n",
            "Documents in cluster  14  are :  Document Number  [4]\n",
            "Documents in cluster  15  are :  Document Number  [2]\n",
            "Documents in cluster  16  are :  Document Number  [11, 16]\n",
            "Documents in cluster  17  are :  Document Number  [13]\n",
            "Documents in cluster  18      : NO DOCUMENTS FOUND\n",
            "Documents in cluster  19      : NO DOCUMENTS FOUND\n"
          ],
          "name": "stdout"
        }
      ]
    }
  ]
}